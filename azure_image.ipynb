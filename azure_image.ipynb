{
 "cells": [
  {
   "cell_type": "code",
   "execution_count": null,
   "metadata": {},
   "outputs": [],
   "source": []
  },
  {
   "cell_type": "code",
   "execution_count": 1,
   "metadata": {},
   "outputs": [],
   "source": [
    "#hide\n",
    "from fastbook import *"
   ]
  },
  {
   "cell_type": "code",
   "execution_count": 2,
   "metadata": {},
   "outputs": [],
   "source": [
    "# 41479e8cdfa545e09da6ae5c6e4afb65\n",
    "key = os.environ.get('AZURE_SEARCH_KEY', '41479e8cdfa545e09da6ae5c6e4afb65')"
   ]
  },
  {
   "cell_type": "code",
   "execution_count": 3,
   "metadata": {},
   "outputs": [
    {
     "data": {
      "text/plain": [
       "<function fastbook.search_images_bing(key, term, min_sz=128, max_images=150)>"
      ]
     },
     "execution_count": 3,
     "metadata": {},
     "output_type": "execute_result"
    }
   ],
   "source": [
    "search_images_bing"
   ]
  },
  {
   "cell_type": "code",
   "execution_count": 4,
   "metadata": {},
   "outputs": [
    {
     "data": {
      "text/plain": [
       "150"
      ]
     },
     "execution_count": 4,
     "metadata": {},
     "output_type": "execute_result"
    }
   ],
   "source": [
    "results = search_images_bing(key, 'banana')\n",
    "#results = search_images_bing(key, 'grizzly bear')\n",
    "ims = results.attrgot('content_url')\n",
    "len(ims)"
   ]
  },
  {
   "cell_type": "code",
   "execution_count": 13,
   "metadata": {},
   "outputs": [
    {
     "data": {
      "text/plain": [
       "(#150) [{'webSearchUrl': 'https://www.bing.com/images/search?view=detailv2&FORM=OIIRPO&q=banana&id=4A54FE33C22C937D4FD8072DDE86053ECE9CB21E&simid=608033847703110131', 'name': 'The meaning and symbolism of the word - «Banana»', 'thumbnailUrl': 'https://tse3.mm.bing.net/th?id=OIP.J713t6KgpMa6j5dXb9AiXQHaHa&pid=Api', 'datePublished': '2020-07-14T15:11:00.0000000Z', 'isFamilyFriendly': True, 'contentUrl': 'http://weknowyourdreams.com/images/banana/banana-02.jpg', 'hostPageUrl': 'http://weknowyourdreams.com/banana.html', 'contentSize': '463182 B', 'encodingFormat': 'jpeg', 'hostPageDisplayUrl': 'weknowyourdreams.com/banana.html', 'width': 1000, 'height': 1000, 'hostPageDiscoveredDate': '2015-10-01T00:00:00.0000000Z', 'thumbnail': {'width': 474, 'height': 474}, 'imageInsightsToken': 'ccid_J713t6Kg*cp_0BB9969EAAEFC9FBF370D9EB78050922*mid_4A54FE33C22C937D4FD8072DDE86053ECE9CB21E*simid_608033847703110131*thid_OIP.J713t6KgpMa6j5dXb9AiXQHaHa', 'insightsMetadata': {'pagesIncludingCount': 355, 'availableSizesCount': 156}, 'imageId': '4A54FE33C22C937D4FD8072DDE86053ECE9CB21E', 'accentColor': 'C5A706'},{'webSearchUrl': 'https://www.bing.com/images/search?view=detailv2&FORM=OIIRPO&q=banana&id=68B9D327799F46F298E99249C0B91A7695A8C2D6&simid=608034406062950766', 'name': 'Banana Day | Days Of The Year', 'thumbnailUrl': 'https://tse4.mm.bing.net/th?id=OIP.1YYy1P3lJNqlZ9gRhVeEnQHaE9&pid=Api', 'datePublished': '2020-12-03T20:29:00.0000000Z', 'isFamilyFriendly': True, 'contentUrl': 'https://www.daysoftheyear.com/wp-content/uploads/banana-day1-scaled.jpg', 'hostPageUrl': 'https://www.daysoftheyear.com/days/banana-day/', 'contentSize': '390221 B', 'encodingFormat': 'jpeg', 'hostPageDisplayUrl': 'https://www.daysoftheyear.com/days/banana-day', 'width': 2560, 'height': 1714, 'hostPageFavIconUrl': 'https://www.bing.com/th?id=ODF.3CQEAt0UPrabw5YI8O9tUg&pid=Api', 'hostPageDomainFriendlyName': 'Days Of The Year', 'hostPageDiscoveredDate': '2014-09-23T00:00:00.0000000Z', 'thumbnail': {'width': 474, 'height': 317}, 'imageInsightsToken': 'ccid_1YYy1P3l*cp_25C1727666091EB459469D3E040FC47D*mid_68B9D327799F46F298E99249C0B91A7695A8C2D6*simid_608034406062950766*thid_OIP.1YYy1P3lJNqlZ9gRhVeEnQHaE9', 'insightsMetadata': {'pagesIncludingCount': 65, 'availableSizesCount': 37}, 'imageId': '68B9D327799F46F298E99249C0B91A7695A8C2D6', 'accentColor': 'C69105'},{'webSearchUrl': 'https://www.bing.com/images/search?view=detailv2&FORM=OIIRPO&q=banana&id=4A10991D096CFD0E2640252DE3ED15ECA7AD38A4&simid=607997469331751365', 'name': 'The meaning and symbolism of the word - «Banana»', 'thumbnailUrl': 'https://tse3.mm.bing.net/th?id=OIP.0J08gAYz8al4sI5K9kYxVQHaHa&pid=Api', 'datePublished': '2020-06-29T14:03:00.0000000Z', 'isFamilyFriendly': True, 'contentUrl': 'https://weknowyourdreams.com/images/banana/banana-03.jpg', 'hostPageUrl': 'https://weknowyourdreams.com/banana.html', 'contentSize': '60044 B', 'encodingFormat': 'jpeg', 'hostPageDisplayUrl': 'https://weknowyourdreams.com/banana.html', 'width': 1500, 'height': 1500, 'hostPageDiscoveredDate': '2019-05-21T00:00:00.0000000Z', 'thumbnail': {'width': 474, 'height': 474}, 'imageInsightsToken': 'ccid_0J08gAYz*cp_AEA78847243F37AB89AE3EE7C37EE323*mid_4A10991D096CFD0E2640252DE3ED15ECA7AD38A4*simid_607997469331751365*thid_OIP.0J08gAYz8al4sI5K9kYxVQHaHa', 'insightsMetadata': {'pagesIncludingCount': 43, 'availableSizesCount': 5}, 'imageId': '4A10991D096CFD0E2640252DE3ED15ECA7AD38A4', 'accentColor': 'B69215'},{'webSearchUrl': 'https://www.bing.com/images/search?view=detailv2&FORM=OIIRPO&q=banana&id=4A10991D096CFD0E2640C1A38AEE1966468458BB&simid=607991211601955240', 'name': 'The meaning and symbolism of the word - «Banana»', 'thumbnailUrl': 'https://tse1.mm.bing.net/th?id=OIP.FJHeaBh6wmWLY4b7sASU_AHaDt&pid=Api', 'datePublished': '2020-06-29T14:03:00.0000000Z', 'isFamilyFriendly': True, 'contentUrl': 'https://weknowyourdreams.com/images/banana/banana-10.jpg', 'hostPageUrl': 'https://weknowyourdreams.com/banana.html', 'contentSize': '111508 B', 'encodingFormat': 'jpeg', 'hostPageDisplayUrl': 'https://weknowyourdreams.com/banana.html', 'width': 2000, 'height': 1000, 'hostPageDiscoveredDate': '2019-05-21T00:00:00.0000000Z', 'thumbnail': {'width': 474, 'height': 237}, 'imageInsightsToken': 'ccid_FJHeaBh6*cp_904CD45B9ACBB0D616BFEF469AAAFE28*mid_4A10991D096CFD0E2640C1A38AEE1966468458BB*simid_607991211601955240*thid_OIP.FJHeaBh6wmWLY4b7sASU!_AHaDt', 'insightsMetadata': {'pagesIncludingCount': 11, 'availableSizesCount': 3}, 'imageId': '4A10991D096CFD0E2640C1A38AEE1966468458BB', 'accentColor': 'AB9920'},{'webSearchUrl': 'https://www.bing.com/images/search?view=detailv2&FORM=OIIRPO&q=banana&id=9150CF0C97AD4F6184662A531EF674CBCC257594&simid=608007523808444625', 'name': 'Banan – Nonsensopedia, polska encyklopedia humoru', 'thumbnailUrl': 'https://tse1.mm.bing.net/th?id=OIP.UD0mtY4oqJgt4IpEqxrAWAHaFS&pid=Api', 'datePublished': '2019-11-30T16:19:00.0000000Z', 'isFamilyFriendly': True, 'creativeCommons': 'AttributionShareAlike', 'contentUrl': 'https://upload.wikimedia.org/wikipedia/commons/b/bd/Banana.arp.750pix.jpg', 'hostPageUrl': 'https://nonsa.pl/wiki/Banan', 'contentSize': '131482 B', 'encodingFormat': 'jpeg', 'hostPageDisplayUrl': 'https://nonsa.pl/wiki/Banan', 'width': 750, 'height': 536, 'hostPageDiscoveredDate': '2019-03-31T00:00:00.0000000Z', 'thumbnail': {'width': 474, 'height': 338}, 'imageInsightsToken': 'ccid_UD0mtY4o*cp_F839CD6CD4DD1E901992AF39508E63CD*mid_9150CF0C97AD4F6184662A531EF674CBCC257594*simid_608007523808444625*thid_OIP.UD0mtY4oqJgt4IpEqxrAWAHaFS', 'insightsMetadata': {'pagesIncludingCount': 28, 'availableSizesCount': 10}, 'imageId': '9150CF0C97AD4F6184662A531EF674CBCC257594', 'accentColor': 'C4B307'},{'webSearchUrl': 'https://www.bing.com/images/search?view=detailv2&FORM=OIIRPO&q=banana&id=82374291B661D3E23ED32796E635C7FCC09EA8B0&simid=607998199450504122', 'name': 'This strange \"apple banana\" I had while in China... It was creamy and more mellow and ...', 'thumbnailUrl': 'https://tse4.mm.bing.net/th?id=OIP.hZ0-ANmPXiasOj_BJXyYvQHaHa&pid=Api', 'datePublished': '2019-08-16T05:50:00.0000000Z', 'isFamilyFriendly': True, 'contentUrl': 'https://preview.redd.it/2p62ksmnhqg31.jpg?auto=webp&s=ae2d6590202a4ac9cffdd85aed962b2122949935', 'hostPageUrl': 'https://www.reddit.com/r/Weird/comments/cr0yqm/this_strange_apple_banana_i_had_while_in_china_it/', 'contentSize': '358622 B', 'encodingFormat': 'jpeg', 'hostPageDisplayUrl': 'https://www.reddit.com/r/Weird/comments/cr0yqm/this...', 'width': 1920, 'height': 1920, 'hostPageFavIconUrl': 'https://www.bing.com/th?id=ODF.H9fefaD85JY_d1pf24lNtQ&pid=Api', 'hostPageDomainFriendlyName': 'Reddit', 'hostPageDiscoveredDate': '2019-08-16T05:50:00.0000000Z', 'thumbnail': {'width': 474, 'height': 474}, 'imageInsightsToken': 'ccid_hZ0+ANmP*cp_4EB2E0A7B3698A45F885CF1762E6487B*mid_82374291B661D3E23ED32796E635C7FCC09EA8B0*simid_607998199450504122*thid_OIP.hZ0-ANmPXiasOj!_BJXyYvQHaHa', 'insightsMetadata': {'pagesIncludingCount': 3, 'availableSizesCount': 1}, 'imageId': '82374291B661D3E23ED32796E635C7FCC09EA8B0', 'accentColor': 'BFA30C'},{'webSearchUrl': 'https://www.bing.com/images/search?view=detailv2&FORM=OIIRPO&q=banana&id=DC45DF1BB0C10F88F747DE1B8F86554792E2CA9E&simid=607991722676782848', 'name': 'Ready for a world without bananas and coffee?', 'thumbnailUrl': 'https://tse1.mm.bing.net/th?id=OIP.s3XuhGHymNEkp_FamUZ03gHaE8&pid=Api', 'datePublished': '2019-09-20T04:36:00.0000000Z', 'isFamilyFriendly': True, 'contentUrl': 'https://www.sustainability-times.com/wp-content/uploads/2018/08/banana_fruit_food_nutrition_bunch_fresh_fresh_fruit_eating-572686.jpg', 'hostPageUrl': 'https://www.sustainability-times.com/green-consumerism/ready-for-a-world-without-bananas-and-coffee/', 'contentSize': '85274 B', 'encodingFormat': 'jpeg', 'hostPageDisplayUrl': 'https://www.sustainability-times.com/green-consumerism...', 'width': 1200, 'height': 800, 'hostPageDiscoveredDate': '2018-08-16T00:00:00.0000000Z', 'thumbnail': {'width': 474, 'height': 316}, 'imageInsightsToken': 'ccid_s3XuhGHy*cp_0F54C0E8C3AA70DA78FBA85D52FC641E*mid_DC45DF1BB0C10F88F747DE1B8F86554792E2CA9E*simid_607991722676782848*thid_OIP.s3XuhGHymNEkp!_FamUZ03gHaE8', 'insightsMetadata': {'pagesIncludingCount': 45, 'availableSizesCount': 19}, 'imageId': 'DC45DF1BB0C10F88F747DE1B8F86554792E2CA9E', 'accentColor': 'B93212'},{'webSearchUrl': 'https://www.bing.com/images/search?view=detailv2&FORM=OIIRPO&q=banana&id=5E7AD1DF207F8B364B710234B6ADCBF287169DE0&simid=608051220851460883', 'name': 'Banana Nanica - Frutas Brasil', 'thumbnailUrl': 'https://tse3.mm.bing.net/th?id=OIP.KE6f51eoX0GQJN00sRJP7gHaHZ&pid=Api', 'datePublished': '2020-01-07T07:42:00.0000000Z', 'isFamilyFriendly': True, 'contentUrl': 'https://frutasbrasilsul.com.br/wp-content/uploads/banana-nanica.png', 'hostPageUrl': 'https://frutasbrasilsul.com.br/produtos/bananas/banana-nanica/', 'contentSize': '167566 B', 'encodingFormat': 'png', 'hostPageDisplayUrl': 'https://frutasbrasilsul.com.br/produtos/bananas/banana...', 'width': 1086, 'height': 1085, 'hostPageDiscoveredDate': '2017-08-07T00:00:00.0000000Z', 'thumbnail': {'width': 474, 'height': 473}, 'imageInsightsToken': 'ccid_KE6f51eo*cp_D8B5D3AC25A76EE2F0E1350F42203700*mid_5E7AD1DF207F8B364B710234B6ADCBF287169DE0*simid_608051220851460883*thid_OIP.KE6f51eoX0GQJN00sRJP7gHaHZ', 'insightsMetadata': {'pagesIncludingCount': 9, 'availableSizesCount': 6}, 'imageId': '5E7AD1DF207F8B364B710234B6ADCBF287169DE0', 'accentColor': '907502'},{'webSearchUrl': 'https://www.bing.com/images/search?view=detailv2&FORM=OIIRPO&q=banana&id=2252B787E41607E075C7DE9C3BFB34CF214DE76A&simid=608052865792347142', 'name': 'Latundan Banana Facts and Health Benefits + My Harvest - YouTube', 'thumbnailUrl': 'https://tse3.mm.bing.net/th?id=OIP.gZDqF55SvTI6ctveHDma8AHaEK&pid=Api', 'datePublished': '2020-01-13T23:10:00.0000000Z', 'isFamilyFriendly': True, 'contentUrl': 'https://i.ytimg.com/vi/-8aMBhvgjhg/maxresdefault.jpg', 'hostPageUrl': 'https://www.youtube.com/watch?v=-8aMBhvgjhg', 'contentSize': '149207 B', 'encodingFormat': 'jpeg', 'hostPageDisplayUrl': 'https://www.youtube.com/watch?v=-8aMBhvgjhg', 'width': 1280, 'height': 720, 'hostPageFavIconUrl': 'https://www.bing.com/th?id=ODF.FN1SZscHib3IBjZN9FhjNQ&pid=Api', 'hostPageDomainFriendlyName': 'YouTube', 'hostPageDiscoveredDate': '2020-01-13T23:10:00.0000000Z', 'thumbnail': {'width': 474, 'height': 266}, 'imageInsightsToken': 'ccid_gZDqF55S*cp_C2CDE7D0677EF995136077FB6387A4C3*mid_2252B787E41607E075C7DE9C3BFB34CF214DE76A*simid_608052865792347142*thid_OIP.gZDqF55SvTI6ctveHDma8AHaEK', 'insightsMetadata': {'pagesIncludingCount': 1, 'availableSizesCount': 1, 'videoObject': {'creator': {'name': 'Confessions of the Aspiring Green Finger'}, 'duration': 'PT5M17S', 'allowHttpsEmbed': True, 'videoId': '2252B787E41607E075C72252B787E41607E075C7', 'allowMobileEmbed': True}}, 'imageId': '2252B787E41607E075C7DE9C3BFB34CF214DE76A', 'accentColor': '744308'},{'webSearchUrl': 'https://www.bing.com/images/search?view=detailv2&FORM=OIIRPO&q=banana&id=31689B9EA55A9751BCDBD8B133FFAD89C8A18ECB&simid=608053303882614697', 'name': 'Clipart banana six, Clipart banana six Transparent FREE for download on WebStockReview ...', 'thumbnailUrl': 'https://tse2.mm.bing.net/th?id=OIP.OVCE816v71jffCLz6UKgzQHaHa&pid=Api', 'datePublished': '2020-08-12T21:10:00.0000000Z', 'isFamilyFriendly': True, 'contentUrl': 'https://webstockreview.net/images/bananas-clipart-6-banana-1.jpg', 'hostPageUrl': 'https://webstockreview.net/explore/clipart-banana-six/', 'contentSize': '181301 B', 'encodingFormat': 'jpeg', 'hostPageDisplayUrl': 'https://webstockreview.net/explore/clipart-banana-six', 'width': 1000, 'height': 1000, 'hostPageDiscoveredDate': '2019-11-04T00:00:00.0000000Z', 'thumbnail': {'width': 474, 'height': 474}, 'imageInsightsToken': 'ccid_OVCE816v*cp_25D4E73AEB43B91CCCD00763F92631C1*mid_31689B9EA55A9751BCDBD8B133FFAD89C8A18ECB*simid_608053303882614697*thid_OIP.OVCE816v71jffCLz6UKgzQHaHa', 'insightsMetadata': {'pagesIncludingCount': 2, 'availableSizesCount': 1}, 'imageId': '31689B9EA55A9751BCDBD8B133FFAD89C8A18ECB', 'accentColor': 'BB8F10'}...]"
      ]
     },
     "execution_count": 13,
     "metadata": {},
     "output_type": "execute_result"
    }
   ],
   "source": [
    "results"
   ]
  },
  {
   "cell_type": "code",
   "execution_count": 8,
   "metadata": {},
   "outputs": [],
   "source": [
    "#hide\n",
    "ims = ['http://weknowyourdreams.com/images/banana/banana-02.jpg']"
   ]
  },
  {
   "cell_type": "code",
   "execution_count": 11,
   "metadata": {},
   "outputs": [
    {
     "data": {
      "text/html": [],
      "text/plain": [
       "<IPython.core.display.HTML object>"
      ]
     },
     "metadata": {},
     "output_type": "display_data"
    }
   ],
   "source": [
    "dest = 'images/banana.jpg'\n",
    "download_url(ims[0], dest)"
   ]
  },
  {
   "cell_type": "code",
   "execution_count": 12,
   "metadata": {},
   "outputs": [
    {
     "data": {
      "image/png": "[encoded data removed]",
      "text/plain": [
       "<PIL.Image.Image image mode=RGB size=128x128 at 0x224007FFCC8>"
      ]
     },
     "execution_count": 12,
     "metadata": {},
     "output_type": "execute_result"
    }
   ],
   "source": [
    "im = Image.open(dest)\n",
    "im.to_thumb(128,128)"
   ]
  },
  {
   "cell_type": "code",
   "execution_count": null,
   "metadata": {},
   "outputs": [],
   "source": []
  }
 ],
 "metadata": {
  "kernelspec": {
   "display_name": "Python 3",
   "language": "python",
   "name": "python3"
  },
  "language_info": {
   "codemirror_mode": {
    "name": "ipython",
    "version": 3
   },
   "file_extension": ".py",
   "mimetype": "text/x-python",
   "name": "python",
   "nbconvert_exporter": "python",
   "pygments_lexer": "ipython3",
   "version": "3.7.6"
  }
 },
 "nbformat": 4,
 "nbformat_minor": 4
}
